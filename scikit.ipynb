{
 "cells": [
  {
   "cell_type": "code",
   "execution_count": 8,
   "id": "ac771a59",
   "metadata": {},
   "outputs": [
    {
     "name": "stdout",
     "output_type": "stream",
     "text": [
      "                    hora  temperatura  humedad\n",
      "0    1644165435711000000         23.0     35.0\n",
      "1    1644165665533000000         23.0     35.0\n",
      "2    1644166028500000000         23.0     35.0\n",
      "3    1644166208318000000         23.0     35.0\n",
      "4    1644166387340000000         23.0     35.0\n",
      "..                   ...          ...      ...\n",
      "518  1644341659833000000         23.0     36.0\n",
      "519  1644341711413000000         23.0     35.0\n",
      "520  1644341770377000000         23.0     36.0\n",
      "521  1644342307893000000         23.0     36.0\n",
      "522  1644342660359000000         23.0     36.0\n",
      "\n",
      "[523 rows x 3 columns]\n"
     ]
    }
   ],
   "source": [
    "import pandas as pd\n",
    "import numpy as np\n",
    "\n",
    "clima = pd.read_csv('datos.csv', names = ['hora', 'temperatura','humedad' ])\n",
    "pd.set_option('mode.chained_assignment', None)\n",
    "for i in range(759):\n",
    "    clima.hora[i] = clima.hora[i][1:25]\n",
    "\n",
    "clima['hora'] = pd.to_datetime(clima['hora'])\n",
    "clima['hora'] = pd.to_numeric(clima['hora'])\n",
    "\n",
    "print(clima.head(523))"
   ]
  },
  {
   "cell_type": "code",
   "execution_count": 3,
   "id": "c0a0d7cf",
   "metadata": {},
   "outputs": [
    {
     "name": "stdout",
     "output_type": "stream",
     "text": [
      "                    hora  temperatura  humedad\n",
      "754  1644441817907000000         21.0     36.0\n",
      "755  1644442417910000000         21.0     36.0\n",
      "756  1644443018912000000         21.0     37.0\n",
      "757  1644443618415000000         21.0     37.0\n",
      "758  1644443812197000000         21.0     37.0\n"
     ]
    }
   ],
   "source": [
    "print(clima.tail())"
   ]
  },
  {
   "cell_type": "code",
   "execution_count": 7,
   "id": "0845d4d6",
   "metadata": {},
   "outputs": [],
   "source": [
    "y = clima.humedad\n",
    "x = clima[['hora', 'temperatura']]"
   ]
  },
  {
   "cell_type": "code",
   "execution_count": 10,
   "id": "b0c3b1bf",
   "metadata": {},
   "outputs": [
    {
     "data": {
      "text/plain": [
       "DecisionTreeRegressor(random_state=1)"
      ]
     },
     "execution_count": 10,
     "metadata": {},
     "output_type": "execute_result"
    }
   ],
   "source": [
    "from sklearn.tree import DecisionTreeRegressor as DTR\n",
    "modelo = DTR(random_state = 1)\n",
    "modelo.fit(x, y)"
   ]
  },
  {
   "cell_type": "code",
   "execution_count": 11,
   "id": "2784248f",
   "metadata": {},
   "outputs": [
    {
     "name": "stdout",
     "output_type": "stream",
     "text": [
      "predicción de humadad suponiendo que no tuvieramos ese dato, para las primeras 5 filas\n",
      "                  hora  temperatura\n",
      "0  1644165435711000000         23.0\n",
      "1  1644165665533000000         23.0\n",
      "2  1644166028500000000         23.0\n",
      "3  1644166208318000000         23.0\n",
      "4  1644166387340000000         23.0\n",
      "la predicción es:\n",
      "[35. 35. 35. 35. 35.]\n"
     ]
    }
   ],
   "source": [
    "print(\"predicción de humadad suponiendo que no tuvieramos ese dato, para las primeras 5 filas\")\n",
    "print(x.head())\n",
    "print(\"la predicción es:\")\n",
    "print(modelo.predict(x.head()))"
   ]
  },
  {
   "cell_type": "code",
   "execution_count": 12,
   "id": "3d0c3f79",
   "metadata": {},
   "outputs": [
    {
     "name": "stdout",
     "output_type": "stream",
     "text": [
      "predicción de humadad suponiendo que no tuvieramos ese dato, para las primeras 5 filas\n",
      "                    hora  temperatura\n",
      "754  1644441817907000000         21.0\n",
      "755  1644442417910000000         21.0\n",
      "756  1644443018912000000         21.0\n",
      "757  1644443618415000000         21.0\n",
      "758  1644443812197000000         21.0\n",
      "la predicción es:\n",
      "[36. 36. 37. 37. 37.]\n"
     ]
    }
   ],
   "source": [
    "print(\"predicción de humadad suponiendo que no tuvieramos ese dato, para las primeras 5 filas\")\n",
    "print(x.tail())\n",
    "print(\"la predicción es:\")\n",
    "print(modelo.predict(x.tail()))"
   ]
  },
  {
   "cell_type": "code",
   "execution_count": 13,
   "id": "db11e369",
   "metadata": {},
   "outputs": [
    {
     "data": {
      "text/plain": [
       "0.0013175230566534915"
      ]
     },
     "execution_count": 13,
     "metadata": {},
     "output_type": "execute_result"
    }
   ],
   "source": [
    "from sklearn.metrics import mean_absolute_error as mae\n",
    "\n",
    "humedad_pred = modelo.predict(x)\n",
    "mae(y, humedad_pred)"
   ]
  },
  {
   "cell_type": "code",
   "execution_count": 15,
   "id": "865b6e6b",
   "metadata": {},
   "outputs": [
    {
     "name": "stdout",
     "output_type": "stream",
     "text": [
      "0.21578947368421053\n"
     ]
    }
   ],
   "source": [
    "from sklearn.model_selection import train_test_split as tts\n",
    "\n",
    "train_x, val_x, train_y, val_y = tts(x, y, random_state = 0)\n",
    "\n",
    "modelo2 = DTR()\n",
    "\n",
    "modelo2.fit(train_x, train_y)\n",
    "\n",
    "val_predictions = modelo2.predict(val_x)\n",
    "print(mae(val_y, val_predictions))"
   ]
  }
 ],
 "metadata": {
  "kernelspec": {
   "display_name": "Python 3 (ipykernel)",
   "language": "python",
   "name": "python3"
  },
  "language_info": {
   "codemirror_mode": {
    "name": "ipython",
    "version": 3
   },
   "file_extension": ".py",
   "mimetype": "text/x-python",
   "name": "python",
   "nbconvert_exporter": "python",
   "pygments_lexer": "ipython3",
   "version": "3.9.7"
  }
 },
 "nbformat": 4,
 "nbformat_minor": 5
}
